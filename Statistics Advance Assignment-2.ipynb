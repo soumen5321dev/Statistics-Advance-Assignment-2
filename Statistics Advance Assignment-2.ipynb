{
 "cells": [
  {
   "cell_type": "markdown",
   "id": "5792b092-4f8b-4ef9-94c1-24d0adce494f",
   "metadata": {},
   "source": [
    "# Q1: What are the Probability Mass Function (PMF) and Probability Density Function (PDF)? Explain with an example."
   ]
  },
  {
   "cell_type": "code",
   "execution_count": null,
   "id": "1c1dfaaf-0125-461a-8f7f-d7f8559bea7e",
   "metadata": {},
   "outputs": [],
   "source": [
    "1. Probability Mass Function (PMF):\n",
    "\n",
    "The Probability Mass Function (PMF) is a function that gives the probability that a discrete random variable is\n",
    "exactly equal to a specific value. It is used for discrete random variables, which can take on a finite or countably\n",
    "infinite number of distinct values.\n",
    "\n",
    "Example:\n",
    "Consider a fair six-sided die. The random variable X represents the outcome of a single roll, so X can take on any\n",
    "value from 1 to 6. Since the die is fair, each outcome has an equal probability of occurring. The PMF for this\n",
    "random variable X is given by:\n",
    "Pr (X = x) 1/6\n",
    "\n",
    "2. Probability Density Function (PDF):\n",
    "\n",
    "The Probability Density Function (PDF) is a function that describes the likelihood of a continuous random variable\n",
    "taking on a particular value. Unlike PMF, the PDF is not the probability itself but a function that must be\n",
    "integrated over an interval to find the probability that the random variable lies within that interval.\n",
    "\n",
    "Example:\n",
    "Say we have a continuous random variable whose probability density function is given by f(x) = x + 2,\n",
    "when 0 < x ≤ 2. We want to find P(0.5 < X < 1). Then we integrate x + 2 within the limits 0.5 and 1.\n",
    "This gives us 1.375."
   ]
  },
  {
   "cell_type": "markdown",
   "id": "3e9240a6-50b6-45e3-b6f8-dccfb1c73e0c",
   "metadata": {},
   "source": [
    "# Q2: What is Cumulative Density Function (CDF)? Explain with an example. Why CDF is used?"
   ]
  },
  {
   "cell_type": "code",
   "execution_count": null,
   "id": "2cc08414-3f25-4bfc-b5d0-3f54f303ffa9",
   "metadata": {},
   "outputs": [],
   "source": [
    "The cumulative distribution function is used to describe the probability distribution of random variables. It can be\n",
    "used to describe the probability for a discrete, continuous or mixed variable. It is obtained by summing up the\n",
    "probability density function and getting the cumulative probability for a random variable.\n",
    "\n",
    "Example:\n",
    "The size of the jump at each point is equal to the probability at that point. For, example, at point x=1, the CDF\n",
    "jumps from 14 to 34. The size of the jump here is 34−14=12 which is equal to PX(1). Also, note that the open and\n",
    "closed circles at point x=1 indicate that FX(1)=34 and not 14.\n",
    "\n",
    "Why CDF is used?\n",
    "1. Complete Distribution Description: The CDF provides a full description of the distribution of the random variable,\n",
    "encapsulating all probabilities for values up to and including any point x.\n",
    "\n",
    "2. Useful in Statistical Analysis: The CDF is used in various statistical analyses, including hypothesis testing,\n",
    "where it helps determine p-values, and in defining percentiles and quantiles, which are critical for summarizing\n",
    "data."
   ]
  },
  {
   "cell_type": "markdown",
   "id": "723f8305-a5c7-4162-b554-94be8351257c",
   "metadata": {},
   "source": [
    "# Q3: What are some examples of situations where the normal distribution might be used as a model? Explain how the parameters of the normal distribution relate to the shape of the distribution."
   ]
  },
  {
   "cell_type": "code",
   "execution_count": null,
   "id": "b2ad01a1-57a3-4e8c-8fd1-e12a8fe6ab26",
   "metadata": {},
   "outputs": [],
   "source": [
    "Situations Where the Normal Distribution Might Be Used:\n",
    "\n",
    "The normal distribution is widely used in various fields to model situations where data tends to cluster around a\n",
    "mean value with a symmetric distribution. Here are some common examples:\n",
    "\n",
    "1. Height and Weight of Individuals: In large populations, the distribution of heights and weights often\n",
    "approximates a normal distribution. Most people have heights and weights around the average, with fewer people\n",
    "being extremely short, tall, light, or heavy.\n",
    "\n",
    "2. IQ Scores: Intelligence quotient (IQ) scores are typically designed to follow a normal distribution with a mean\n",
    "of 100 and a standard deviation of 15. Most people's IQ scores are close to the average, with fewer individuals\n",
    "having very high or very low scores.\n",
    "\n",
    "Parameters of the Normal Distribution:\n",
    "The normal distribution is defined by two key parameters: the mean (μ) and the standard deviation (σ). These\n",
    "parameters control the shape and position of the distribution:\n",
    "\n",
    "1. Mean (μ):\n",
    "(i) The mean is the central value around which the data clusters. It determines the location of the peak of the\n",
    "distribution.\n",
    "(ii) In the context of the normal distribution, the mean is also the median and the mode, since the distribution is\n",
    "symmetric.\n",
    "Effect on Shape:\n",
    "Shifting the mean moves the entire distribution left or right on the number line without altering its shape.\n",
    "\n",
    "2. Standard Deviation (σ):\n",
    "(i) The standard deviation measures the spread or dispersion of the distribution. It indicates how much the data\n",
    "varies from the mean.\n",
    "(ii) A smaller standard deviation means the data points are close to the mean, leading to a steep and narrow\n",
    "distribution.\n",
    "(iii) A larger standard deviation indicates that the data points are spread out over a wider range, resulting in a\n",
    "flatter and broader distribution.\n",
    "Effect on Shape:\n",
    "Increasing the standard deviation flattens and widens the curve, spreading the data over a broader range of values.\n",
    "Decreasing the standard deviation makes the curve steeper and narrower, concentrating the data closer to the mean."
   ]
  },
  {
   "cell_type": "markdown",
   "id": "179e563a-209b-4382-8cbc-e6f0464306c9",
   "metadata": {},
   "source": [
    "# Q4: Explain the importance of Normal Distribution. Give a few real-life examples of Normal Distribution."
   ]
  },
  {
   "cell_type": "code",
   "execution_count": null,
   "id": "08de138b-e659-4a53-ad45-6c0ca345a725",
   "metadata": {},
   "outputs": [],
   "source": [
    "Importance of Normal Distribution:\n",
    "\n",
    "The normal distribution, often referred to as the Gaussian distribution, plays a crucial role in statistics and\n",
    "various fields due to its unique properties and the fact that many real-world phenomena naturally follow or\n",
    "approximate this distribution. Here’s why the normal distribution is important:\n",
    "\n",
    "1. Central Limit Theorem (CLT): The Central Limit Theorem states that the distribution of the sample mean of a\n",
    "sufficiently large number of independent and identically distributed random variables, regardless of the original\n",
    "distribution, will approximate a normal distribution. This makes the normal distribution a fundamental tool in\n",
    "inferential statistics, allowing for the approximation of complex distributions.\n",
    "\n",
    "2. Basis for Statistical Methods: Many statistical tests, such as t-tests, z-tests, and ANOVA, are based on the\n",
    "assumption that the data follows a normal distribution. This allows for the development of parametric tests that\n",
    "are powerful and widely applicable.\n",
    "\n",
    "\n",
    "Real-Life Examples of Normal Distribution:\n",
    "\n",
    "1. Human Heights: In large populations, the distribution of human heights tends to be normal. For instance, the\n",
    "heights of adult males in a given population may have a mean of 5'10\" (177.8 cm) with a standard deviation of 3\n",
    "inches (7.62 cm). Most individuals will have a height close to the mean, with fewer individuals being extremely\n",
    "tall or short.\n",
    "\n",
    "2. Exam Scores: Scores on standardized tests, such as the SAT, GRE, or IQ tests, are often designed to follow a\n",
    "normal distribution. This allows educators and institutions to compare scores relative to the average performance\n",
    "and understand the distribution of student abilities."
   ]
  },
  {
   "cell_type": "markdown",
   "id": "67d40626-6e16-4a72-a2b4-3c111cf6bb04",
   "metadata": {},
   "source": [
    "# Q5: What is Bernaulli Distribution? Give an Example. What is the difference between Bernoulli Distribution and Binomial Distribution?"
   ]
  },
  {
   "cell_type": "code",
   "execution_count": null,
   "id": "30e6da4c-0a08-4c59-9f9d-41bd854c73f1",
   "metadata": {},
   "outputs": [],
   "source": [
    "Bernoulli Distribution:\n",
    "Definition: The Bernoulli distribution is a discrete probability distribution for a random variable that takes on\n",
    "only two possible outcomes: success (usually denoted as 1) and failure (usually denoted as 0). It is named after\n",
    "the Swiss mathematician Jacob Bernoulli.\n",
    "\n",
    "Example: (i) Tossing a coin {H,T}\n",
    "            Pr(H)=0.5=p\n",
    "            Pr(T)=0.5=1-q=p\n",
    "\n",
    "Difference Between Bernoulli Distribution and Binomial Distribution:\n",
    "\n",
    "1. Number of Trials:\n",
    "Bernoulli Distribution: Consists of a single trial (n = 1).\n",
    "Binomial Distribution: Consists of multiple independent trials (n > 1).\n",
    "\n",
    "2. Use Case:\n",
    "Bernoulli Distribution: Used when dealing with a single trial with two outcomes.\n",
    "Binomial Distribution: Used when dealing with several trials where each trial is independent and has the same\n",
    "probability of success.\n",
    "\n",
    "3. Example:\n",
    "\n",
    "Bernoulli Distribution: Flipping a single coin.\n",
    "Binomial Distribution: Flipping 10 coins and counting the number of heads."
   ]
  },
  {
   "cell_type": "markdown",
   "id": "434d489f-7670-4933-9779-0070b2f038e4",
   "metadata": {},
   "source": [
    "# Q6. Consider a dataset with a mean of 50 and a standard deviation of 10. If we assume that the dataset is normally distributed, what is the probability that a randomly selected observation will be greater than 60? Use the appropriate formula and show your calculations."
   ]
  },
  {
   "cell_type": "code",
   "execution_count": null,
   "id": "c871e634-da45-4b1c-a038-b17e0386b3b2",
   "metadata": {},
   "outputs": [],
   "source": [
    "Ans: Given Mean (μ) = 50, Standard deviation (σ) = 10, X = 60\n",
    "\n",
    "Using Z-Score we get z = x-μ/σ = 60-50/10 = 10/10 = 1\n",
    "\n",
    "From the Z-table, the probability corresponding to Z=1 is approximately 0.8413.\n",
    "\n",
    "To find the probability that X>60, subtract the above probability from 1:\n",
    "P(X>60)=1−P(X≤60)=1−0.8413=0.1587\n",
    "\n",
    "The probability that a randomly selected observation will be greater than 60 is 0.1587 or 15.87%."
   ]
  },
  {
   "cell_type": "markdown",
   "id": "f6df9b07-1cb3-4f5b-be59-486a106525eb",
   "metadata": {},
   "source": [
    "# Q7: Explain uniform Distribution with an example."
   ]
  },
  {
   "cell_type": "code",
   "execution_count": null,
   "id": "390f5dda-306e-496f-9b5a-92098e42d0c7",
   "metadata": {},
   "outputs": [],
   "source": [
    "In statistics, uniform distribution is a term used to describe a form of probability distribution where every\n",
    "possible outcome has an equal likelihood of happening. The probability is constant since each variable has equal\n",
    "chances of being the outcome.\n",
    "\n",
    "Example:\n",
    "An example of a uniform distribution is when a coin is tossed."
   ]
  },
  {
   "cell_type": "markdown",
   "id": "65f3fb68-eb99-4a98-94f7-93dd0b4183c4",
   "metadata": {},
   "source": [
    "# Q8: What is the z score? State the importance of the z score."
   ]
  },
  {
   "cell_type": "code",
   "execution_count": null,
   "id": "2875942e-7887-451f-a875-f434de943211",
   "metadata": {},
   "outputs": [],
   "source": [
    "Definition: The Z-score, also known as the standard score, is a statistical measure that describes how far a data\n",
    "point is from the mean of a dataset, expressed in terms of standard deviations. The Z-score is used to determine\n",
    "the relative position of a data point within a distribution.\n",
    "\n",
    "Formula of Z-Score = z = x-μ/σ\n",
    "\n",
    "Importance of the Z-Score\n",
    "1. Standardization:\n",
    "Z-scores allow for the standardization of different datasets, making it possible to compare data points from\n",
    "different distributions. By converting data into Z-scores, you can compare scores from different scales or units.\n",
    "\n",
    "2. Identifying Outliers:\n",
    "Z-scores help identify outliers in a dataset. Typically, a Z-score greater than 3 or less than -3 is considered an\n",
    "outlier, meaning that the data point is far from the mean.\n",
    "\n",
    "3. Probability Calculation:\n",
    "Z-scores are used in the calculation of probabilities for normally distributed data. By converting a data point into\n",
    "a Z-score, you can use the standard normal distribution (Z-distribution) to find the probability of a value occurring within a certain range.\n",
    "\n",
    "4.Hypothesis Testing:\n",
    "Z-scores are critical in hypothesis testing, particularly in Z-tests. By converting sample means to Z-scores, you\n",
    "can determine whether the sample mean is significantly different from the population mean."
   ]
  },
  {
   "cell_type": "markdown",
   "id": "a287c418-2547-46ad-a3d5-da1f154c05c8",
   "metadata": {},
   "source": [
    "# Q9: What is Central Limit Theorem? State the significance of the Central Limit Theorem."
   ]
  },
  {
   "cell_type": "code",
   "execution_count": null,
   "id": "d9c65e44-3d6e-4c93-951b-aa759eb93447",
   "metadata": {},
   "outputs": [],
   "source": [
    "Definition: The Central Limit Theorem (CLT) is a fundamental concept in statistics that states that the sampling\n",
    "distribution of the sample mean (or sum) of a sufficiently large number of independent and identically distributed\n",
    "(i.i.d.) random variables, regardless of the original distribution of the population, will approximate a normal\n",
    "distribution. This approximation becomes better as the sample size increases.\n",
    "\n",
    "Significance of the Central Limit Theorem\n",
    "\n",
    "1. Foundation for Inferential Statistics:\n",
    "The CLT provides the basis for making inferences about population parameters using sample statistics. It allows\n",
    "statisticians to make generalizations about the population from which the sample is drawn, even if the population distribution is unknown or non-normal.\n",
    "\n",
    "2. Normal Approximation:\n",
    "The CLT justifies the use of the normal distribution to approximate the sampling distribution of the sample mean,\n",
    "even when the population is not normally distributed. This is crucial because many statistical procedures and\n",
    "confidence intervals are based on the assumption of normality."
   ]
  },
  {
   "cell_type": "markdown",
   "id": "bdc30d58-2f23-4f42-b1b0-801afa8d2358",
   "metadata": {},
   "source": [
    "# Q10: State the assumptions of the Central Limit Theorem."
   ]
  },
  {
   "cell_type": "code",
   "execution_count": null,
   "id": "a30ea509-24e5-457b-b6e6-6126dc0771e5",
   "metadata": {},
   "outputs": [],
   "source": [
    "Assumptions of the Central Limit Theorem (CLT):\n",
    "The Central Limit Theorem (CLT) relies on several key assumptions to hold true. These assumptions ensure that the\n",
    "sampling distribution of the sample mean (or sum) will approximate a normal distribution, regardless of the\n",
    "population's original distribution.\n",
    "\n",
    "1. Independence of Observations:\n",
    "The sampled observations must be independent of each other. This means that the outcome of one observation should\n",
    "not influence the outcome of another. Independence is critical because the theorem relies on the fact that the sum\n",
    "(or mean) of many independent random variables will tend toward a normal distribution.\n",
    "\n",
    "2. Identical Distribution:\n",
    "The random variables being averaged should be identically distributed. This means that each observation is drawn\n",
    "from the same probability distribution with the same mean and variance. The assumption of identical distribution\n",
    "ensures that each sample is representative of the same underlying population.\n",
    "\n",
    "3. Sample Size:\n",
    "The sample size must be sufficiently large. While the CLT can begin to apply with sample sizes as small as 30, the\n",
    "required sample size can vary depending on the original population distribution. For populations with significant\n",
    "skew or heavy tails, a larger sample size might be necessary to achieve a normal approximation."
   ]
  },
  {
   "cell_type": "code",
   "execution_count": null,
   "id": "b85b6414-4fd5-4fcd-a2fb-d967e3040e12",
   "metadata": {},
   "outputs": [],
   "source": []
  },
  {
   "cell_type": "code",
   "execution_count": null,
   "id": "838fa2fd-f50c-40d0-8e94-c64be109cf31",
   "metadata": {},
   "outputs": [],
   "source": []
  }
 ],
 "metadata": {
  "kernelspec": {
   "display_name": "Python 3 (ipykernel)",
   "language": "python",
   "name": "python3"
  },
  "language_info": {
   "codemirror_mode": {
    "name": "ipython",
    "version": 3
   },
   "file_extension": ".py",
   "mimetype": "text/x-python",
   "name": "python",
   "nbconvert_exporter": "python",
   "pygments_lexer": "ipython3",
   "version": "3.12.4"
  }
 },
 "nbformat": 4,
 "nbformat_minor": 5
}
